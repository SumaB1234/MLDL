{
 "cells": [
  {
   "cell_type": "code",
   "execution_count": 1,
   "id": "fbf76fe2",
   "metadata": {},
   "outputs": [],
   "source": [
    "import pandas as pd\n",
    "import matplotlib.pyplot as plt\n",
    "import numpy as np"
   ]
  },
  {
   "cell_type": "code",
   "execution_count": 2,
   "id": "6672c63f",
   "metadata": {},
   "outputs": [],
   "source": [
    "a=[2,5,3,10]\n",
    "b=[8,25,9,40]"
   ]
  },
  {
   "cell_type": "code",
   "execution_count": 3,
   "id": "8837eac6",
   "metadata": {},
   "outputs": [],
   "source": [
    "mean_a=(a[0]+a[1]+a[2]+a[3])/4\n",
    "mean_b=(b[0]+b[1]+b[2]+b[3])/4"
   ]
  },
  {
   "cell_type": "code",
   "execution_count": 4,
   "id": "6acfe60e",
   "metadata": {},
   "outputs": [
    {
     "data": {
      "text/plain": [
       "(5.0, 20.5)"
      ]
     },
     "execution_count": 4,
     "metadata": {},
     "output_type": "execute_result"
    }
   ],
   "source": [
    "mean_a,mean_b\n"
   ]
  },
  {
   "cell_type": "code",
   "execution_count": 5,
   "id": "8174c121",
   "metadata": {},
   "outputs": [
    {
     "data": {
      "text/plain": [
       "([7.0, 10.0, 8.0, 15.0], [28.5, 45.5, 29.5, 60.5])"
      ]
     },
     "execution_count": 5,
     "metadata": {},
     "output_type": "execute_result"
    }
   ],
   "source": [
    "a1=[i+mean_a for i in a]\n",
    "b1=[i+mean_b for i in b]\n",
    "a1,b1"
   ]
  },
  {
   "cell_type": "code",
   "execution_count": 6,
   "id": "a96c3feb",
   "metadata": {},
   "outputs": [],
   "source": [
    "sq_a1=np.multiply(a1,a1)\n",
    "a1_b1=np.multiply(a1,b1)"
   ]
  },
  {
   "cell_type": "code",
   "execution_count": 7,
   "id": "ae8bf9a4",
   "metadata": {},
   "outputs": [
    {
     "name": "stdout",
     "output_type": "stream",
     "text": [
      "    a   b  a-mean_a  b-mean_b  (a-mean_a)^2  (a-mean_a)*(b-mean_b)\n",
      "0   2   8       7.0      28.5          49.0                  199.5\n",
      "1   5  25      10.0      45.5         100.0                  455.0\n",
      "2   3   9       8.0      29.5          64.0                  236.0\n",
      "3  10  40      15.0      60.5         225.0                  907.5\n"
     ]
    }
   ],
   "source": [
    "d={'a':a,'b':b,'a-mean_a':a1,'b-mean_b':b1,'(a-mean_a)^2':sq_a1, '(a-mean_a)*(b-mean_b)':a1_b1}\n",
    "data=pd.DataFrame(data=d)\n",
    "print(data)"
   ]
  },
  {
   "cell_type": "code",
   "execution_count": 8,
   "id": "15c5ea80",
   "metadata": {},
   "outputs": [],
   "source": [
    "m=sum(a1_b1)/sum(sq_a1)\n",
    "c=mean_b-mean_a*m"
   ]
  },
  {
   "cell_type": "code",
   "execution_count": 9,
   "id": "847ea307",
   "metadata": {},
   "outputs": [
    {
     "data": {
      "text/plain": [
       "(4.105022831050229, -0.025114155251142023)"
      ]
     },
     "execution_count": 9,
     "metadata": {},
     "output_type": "execute_result"
    }
   ],
   "source": [
    "m,c"
   ]
  },
  {
   "cell_type": "code",
   "execution_count": 15,
   "id": "bc83a283",
   "metadata": {},
   "outputs": [
    {
     "data": {
      "image/png": "[encoded data removed]",
      "text/plain": [
       "<Figure size 432x288 with 1 Axes>"
      ]
     },
     "metadata": {
      "needs_background": "light"
     },
     "output_type": "display_data"
    }
   ],
   "source": [
    "a_new=np.linspace(0,12,50)\n",
    "b_new=m*a_new+c\n",
    "plt.plot(a_new,b_new,color='blue',label='linear regression')\n",
    "plt.scatter(a,b,color='green',label='actual values',marker='v')\n",
    "\n",
    "plt.xlabel('X-axis')\n",
    "plt.ylabel('Y-axis')\n",
    "plt.legend()\n",
    "plt.show()"
   ]
  },
  {
   "cell_type": "code",
   "execution_count": null,
   "id": "336d1cfd",
   "metadata": {},
   "outputs": [],
   "source": [
    "    "
   ]
  }
 ],
 "metadata": {
  "kernelspec": {
   "display_name": "Python 3 (ipykernel)",
   "language": "python",
   "name": "python3"
  },
  "language_info": {
   "codemirror_mode": {
    "name": "ipython",
    "version": 3
   },
   "file_extension": ".py",
   "mimetype": "text/x-python",
   "name": "python",
   "nbconvert_exporter": "python",
   "pygments_lexer": "ipython3",
   "version": "3.9.7"
  }
 },
 "nbformat": 4,
 "nbformat_minor": 5
}
